{
 "cells": [
  {
   "cell_type": "code",
   "execution_count": 1,
   "metadata": {},
   "outputs": [
    {
     "name": "stderr",
     "output_type": "stream",
     "text": [
      "/home/yuntae_kang/.pyenv/versions/3.12.5/envs/imb_data/lib/python3.12/site-packages/torch/_subclasses/functional_tensor.py:275: UserWarning: Failed to initialize NumPy: No module named 'numpy' (Triggered internally at /pytorch/torch/csrc/utils/tensor_numpy.cpp:81.)\n",
      "  cpu = _conversion_method_template(device=torch.device(\"cpu\"))\n"
     ]
    }
   ],
   "source": [
    "from SeqGAN.model import *"
   ]
  },
  {
   "cell_type": "code",
   "execution_count": 3,
   "metadata": {},
   "outputs": [],
   "source": [
    "ACTIONS = ['[PAD]', '[SOS]', 'Logon', 'Logoff', 'Connect', 'Disconnect']\n",
    "vocab = Vocabulary(ACTIONS)"
   ]
  },
  {
   "cell_type": "code",
   "execution_count": 5,
   "metadata": {},
   "outputs": [],
   "source": [
    "BATCH_SIZE = 8\n",
    "MAX_LENGTH = 15\n",
    "DEVICE = torch.device('cuda')\n",
    "\n",
    "batch_samples = []\n",
    "for _ in range(BATCH_SIZE):\n",
    "    length = torch.randint(1, MAX_LENGTH, (1,))[0]\n",
    "    sample = torch.randint(2, 6, size=(length,))\n",
    "    sample = torch.cat([torch.tensor([1]), sample], dim=0)\n",
    "    batch_samples.append(sample)\n",
    "\n",
    "batch_samples = torch.nn.utils.rnn.pad_sequence(batch_samples, batch_first=True).to(DEVICE)"
   ]
  },
  {
   "cell_type": "code",
   "execution_count": 6,
   "metadata": {},
   "outputs": [],
   "source": [
    "generator = Generator(vocab, 4, 3).to(DEVICE)\n",
    "discriminator = Discriminator(vocab, 4, [2], [2], .25).to(DEVICE)\n",
    "pg_criterion = PGLoss()\n",
    "gen_optimizer = torch.optim.Adam(generator.parameters(), lr=0.01, betas=[0.9, 0.99])"
   ]
  },
  {
   "cell_type": "code",
   "execution_count": 7,
   "metadata": {},
   "outputs": [],
   "source": [
    "pad_id = vocab.action_dict['[PAD]']\n",
    "criterion = nn.NLLLoss(ignore_index=pad_id)\n",
    "\n",
    "target = torch.cat([batch_samples[:,1:], torch.full(size=(BATCH_SIZE, 1), fill_value=pad_id, device=batch_samples.device)], dim=1)\n",
    "\n",
    "log_probs = generator(batch_samples)\n",
    "gen_loss = criterion(log_probs.view(-1, len(vocab)), target.view(-1))"
   ]
  },
  {
   "cell_type": "code",
   "execution_count": 8,
   "metadata": {},
   "outputs": [],
   "source": [
    "gen_optimizer.zero_grad()\n",
    "gen_loss.backward()\n",
    "gen_optimizer.step()"
   ]
  },
  {
   "cell_type": "code",
   "execution_count": 9,
   "metadata": {},
   "outputs": [],
   "source": [
    "source = torch.ones(size=(BATCH_SIZE, 1)).long().to(DEVICE)\n",
    "generated_samples = generator.generate(source=source, target_len=20)"
   ]
  },
  {
   "cell_type": "code",
   "execution_count": 10,
   "metadata": {},
   "outputs": [],
   "source": [
    "log_P = generator(generated_samples)"
   ]
  },
  {
   "cell_type": "code",
   "execution_count": 11,
   "metadata": {},
   "outputs": [],
   "source": [
    "rewards = action_value_function(generated_samples, generator, discriminator, 10)"
   ]
  },
  {
   "cell_type": "code",
   "execution_count": 12,
   "metadata": {},
   "outputs": [],
   "source": [
    "log_probs = log_P[:, :-1].gather(dim=-1, index=generated_samples[:, 1:].unsqueeze(-1)).squeeze()"
   ]
  },
  {
   "cell_type": "code",
   "execution_count": 14,
   "metadata": {},
   "outputs": [],
   "source": [
    "pg_loss = pg_criterion(log_probs, rewards)"
   ]
  },
  {
   "cell_type": "code",
   "execution_count": 16,
   "metadata": {},
   "outputs": [],
   "source": [
    "pg_loss.backward()"
   ]
  },
  {
   "cell_type": "code",
   "execution_count": null,
   "metadata": {},
   "outputs": [],
   "source": []
  },
  {
   "cell_type": "code",
   "execution_count": 94,
   "metadata": {},
   "outputs": [],
   "source": [
    "loss = log_probs * rewards"
   ]
  },
  {
   "cell_type": "code",
   "execution_count": 95,
   "metadata": {},
   "outputs": [],
   "source": [
    "lengths = loss.ne(0).sum(dim=1).unsqueeze(dim=1) + 1e-9"
   ]
  },
  {
   "cell_type": "code",
   "execution_count": 100,
   "metadata": {},
   "outputs": [
    {
     "data": {
      "text/plain": [
       "tensor(1.0193, device='cuda:0', grad_fn=<NegBackward0>)"
      ]
     },
     "execution_count": 100,
     "metadata": {},
     "output_type": "execute_result"
    }
   ],
   "source": [
    "-(loss / lengths).sum(dim=1).mean()"
   ]
  },
  {
   "cell_type": "code",
   "execution_count": 15,
   "metadata": {},
   "outputs": [
    {
     "data": {
      "text/plain": [
       "tensor([[0.6142, 0.0000, 0.0000, 0.0000, 0.0000, 0.0000],\n",
       "        [0.6201, 0.6349, 0.6379, 0.6406, 0.6406, 0.6411],\n",
       "        [0.6286, 0.0000, 0.0000, 0.0000, 0.0000, 0.0000],\n",
       "        [0.6162, 0.6481, 0.6387, 0.6367, 0.0000, 0.0000],\n",
       "        [0.6180, 0.0000, 0.0000, 0.0000, 0.0000, 0.0000],\n",
       "        [0.6297, 0.6332, 0.0000, 0.0000, 0.0000, 0.0000],\n",
       "        [0.0000, 0.0000, 0.0000, 0.0000, 0.0000, 0.0000],\n",
       "        [0.6203, 0.0000, 0.0000, 0.0000, 0.0000, 0.0000]], device='cuda:0')"
      ]
     },
     "execution_count": 15,
     "metadata": {},
     "output_type": "execute_result"
    }
   ],
   "source": [
    "rewards"
   ]
  },
  {
   "cell_type": "code",
   "execution_count": 33,
   "metadata": {},
   "outputs": [
    {
     "data": {
      "text/plain": [
       "tensor([[1, 3, 3, 2, 2, 4, 4, 4, 0, 0],\n",
       "        [1, 4, 4, 4, 3, 4, 4, 4, 5, 3],\n",
       "        [1, 5, 4, 5, 4, 5, 0, 0, 0, 0],\n",
       "        [1, 5, 0, 0, 0, 0, 0, 0, 0, 0],\n",
       "        [1, 5, 4, 5, 4, 0, 0, 0, 0, 0],\n",
       "        [1, 5, 4, 5, 0, 0, 0, 0, 0, 0],\n",
       "        [1, 4, 4, 0, 0, 0, 0, 0, 0, 0],\n",
       "        [1, 4, 0, 0, 0, 0, 0, 0, 0, 0]], device='cuda:0')"
      ]
     },
     "execution_count": 33,
     "metadata": {},
     "output_type": "execute_result"
    }
   ],
   "source": [
    "generated_samples"
   ]
  },
  {
   "cell_type": "code",
   "execution_count": null,
   "metadata": {},
   "outputs": [],
   "source": [
    "log_P.index"
   ]
  },
  {
   "cell_type": "code",
   "execution_count": 32,
   "metadata": {},
   "outputs": [
    {
     "data": {
      "text/plain": [
       "torch.Size([8, 9, 6])"
      ]
     },
     "execution_count": 32,
     "metadata": {},
     "output_type": "execute_result"
    }
   ],
   "source": [
    "log_P[:, :-1, :].shape"
   ]
  },
  {
   "cell_type": "code",
   "execution_count": 26,
   "metadata": {},
   "outputs": [
    {
     "data": {
      "text/plain": [
       "torch.Size([8, 9])"
      ]
     },
     "execution_count": 26,
     "metadata": {},
     "output_type": "execute_result"
    }
   ],
   "source": [
    "rewards.shape"
   ]
  },
  {
   "cell_type": "code",
   "execution_count": 28,
   "metadata": {},
   "outputs": [
    {
     "data": {
      "text/plain": [
       "tensor([[ True,  True,  True, False, False, False, False, False, False, False,\n",
       "         False, False, False, False, False, False, False, False, False],\n",
       "        [False, False, False, False, False, False, False, False, False, False,\n",
       "         False, False, False, False, False, False, False, False, False],\n",
       "        [False, False, False, False, False, False, False, False, False, False,\n",
       "         False, False, False, False, False, False, False, False, False],\n",
       "        [False, False, False, False, False, False, False, False, False, False,\n",
       "         False, False, False, False, False, False, False, False, False],\n",
       "        [False, False, False, False, False, False, False, False, False, False,\n",
       "         False, False, False, False, False, False, False, False, False],\n",
       "        [ True,  True,  True, False, False, False, False, False, False, False,\n",
       "         False, False, False, False, False, False, False, False, False],\n",
       "        [ True,  True,  True, False, False, False, False, False, False, False,\n",
       "         False, False, False, False, False, False, False, False, False],\n",
       "        [False, False, False, False, False, False, False, False, False, False,\n",
       "         False, False, False, False, False, False, False, False, False]],\n",
       "       device='cuda:0')"
      ]
     },
     "execution_count": 28,
     "metadata": {},
     "output_type": "execute_result"
    }
   ],
   "source": [
    "~(generated_samples.eq(0)[:, 1:])"
   ]
  },
  {
   "cell_type": "code",
   "execution_count": 27,
   "metadata": {},
   "outputs": [
    {
     "data": {
      "text/plain": [
       "tensor([[0., 0., 0., 0., 0., 0., 0., 0., 0., 0., 0., 0., 0., 0., 0., 0., 0., 0., 0.],\n",
       "        [0., 0., 0., 0., 0., 0., 0., 0., 0., 0., 0., 0., 0., 0., 0., 0., 0., 0., 0.],\n",
       "        [0., 0., 0., 0., 0., 0., 0., 0., 0., 0., 0., 0., 0., 0., 0., 0., 0., 0., 0.],\n",
       "        [0., 0., 0., 0., 0., 0., 0., 0., 0., 0., 0., 0., 0., 0., 0., 0., 0., 0., 0.],\n",
       "        [0., 0., 0., 0., 0., 0., 0., 0., 0., 0., 0., 0., 0., 0., 0., 0., 0., 0., 0.],\n",
       "        [0., 0., 0., 0., 0., 0., 0., 0., 0., 0., 0., 0., 0., 0., 0., 0., 0., 0., 0.],\n",
       "        [0., 0., 0., 0., 0., 0., 0., 0., 0., 0., 0., 0., 0., 0., 0., 0., 0., 0., 0.],\n",
       "        [0., 0., 0., 0., 0., 0., 0., 0., 0., 0., 0., 0., 0., 0., 0., 0., 0., 0., 0.]],\n",
       "       device='cuda:0')"
      ]
     },
     "execution_count": 27,
     "metadata": {},
     "output_type": "execute_result"
    }
   ],
   "source": [
    "rewards * ~(generated_samples.eq(0)[:, 1:])"
   ]
  },
  {
   "cell_type": "code",
   "execution_count": 19,
   "metadata": {},
   "outputs": [
    {
     "data": {
      "text/plain": [
       "tensor([[1],\n",
       "        [1],\n",
       "        [1],\n",
       "        [1],\n",
       "        [1],\n",
       "        [1],\n",
       "        [1],\n",
       "        [1]], device='cuda:0')"
      ]
     },
     "execution_count": 19,
     "metadata": {},
     "output_type": "execute_result"
    }
   ],
   "source": [
    "source"
   ]
  },
  {
   "cell_type": "code",
   "execution_count": null,
   "metadata": {},
   "outputs": [],
   "source": []
  },
  {
   "cell_type": "code",
   "execution_count": null,
   "metadata": {},
   "outputs": [],
   "source": []
  },
  {
   "cell_type": "code",
   "execution_count": 37,
   "metadata": {},
   "outputs": [
    {
     "data": {
      "text/plain": [
       "tensor(0.6810)"
      ]
     },
     "execution_count": 37,
     "metadata": {},
     "output_type": "execute_result"
    }
   ],
   "source": [
    "a.sum(dim=1).mean()"
   ]
  },
  {
   "cell_type": "code",
   "execution_count": 31,
   "metadata": {},
   "outputs": [
    {
     "data": {
      "text/plain": [
       "tensor([[-0.5903, -0.0637, -0.0097,  0.0000,  0.0000],\n",
       "        [-0.0180, -0.0060,  0.2568, -0.1708,  0.3266],\n",
       "        [ 0.4415,  0.0694,  0.0000,  0.0000,  0.0000],\n",
       "        [-0.1361, -0.0011,  0.1317,  0.1980, -0.2454],\n",
       "        [-0.1076, -0.0454, -0.1535,  0.0218,  0.1662],\n",
       "        [-0.2480, -0.5456, -0.1236,  0.4397,  0.5175],\n",
       "        [-0.0112,  0.0340,  0.4097, -0.0121,  0.3133],\n",
       "        [-0.1524,  0.2566,  0.0459,  0.0384,  0.1617],\n",
       "        [-0.0242, -0.0717,  0.0888,  0.1620,  0.0059],\n",
       "        [-0.0615,  0.0739, -0.0098, -0.0149,  0.0663]])"
      ]
     },
     "execution_count": 31,
     "metadata": {},
     "output_type": "execute_result"
    }
   ],
   "source": [
    "a/a.ne(0).sum(dim=1).unsqueeze(1)"
   ]
  },
  {
   "cell_type": "code",
   "execution_count": 62,
   "metadata": {},
   "outputs": [],
   "source": [
    "actions = {'[PAD]', '[SOS]', 'Logon', 'Logoff', 'Connect', 'Disconnect'}\n",
    "vocabs = Vocabulary(actions)\n",
    "\n",
    "generator = Generator(vocabs, 5, 4)"
   ]
  },
  {
   "cell_type": "code",
   "execution_count": 58,
   "metadata": {},
   "outputs": [],
   "source": [
    "source = torch.full(size=(5, 1), fill_value=generator.embedding.sos_id)"
   ]
  },
  {
   "cell_type": "code",
   "execution_count": 83,
   "metadata": {},
   "outputs": [],
   "source": [
    "gen = generator.generate(source, 10)"
   ]
  },
  {
   "cell_type": "code",
   "execution_count": 84,
   "metadata": {},
   "outputs": [
    {
     "data": {
      "text/plain": [
       "tensor([[4, 0, 0, 0, 0, 0, 0, 0, 0, 0],\n",
       "        [4, 5, 4, 3, 0, 0, 0, 0, 0, 0],\n",
       "        [2, 4, 0, 0, 0, 0, 0, 0, 0, 0],\n",
       "        [3, 5, 2, 4, 0, 0, 0, 0, 0, 0],\n",
       "        [4, 3, 4, 0, 0, 0, 0, 0, 0, 0]])"
      ]
     },
     "execution_count": 84,
     "metadata": {},
     "output_type": "execute_result"
    }
   ],
   "source": [
    "gen"
   ]
  },
  {
   "cell_type": "code",
   "execution_count": 30,
   "metadata": {},
   "outputs": [
    {
     "name": "stderr",
     "output_type": "stream",
     "text": [
      "/home/yuntae_kang/.pyenv/versions/3.12.5/envs/imb_data/lib/python3.12/site-packages/torch/_subclasses/functional_tensor.py:275: UserWarning: Failed to initialize NumPy: No module named 'numpy' (Triggered internally at /pytorch/torch/csrc/utils/tensor_numpy.cpp:81.)\n",
      "  cpu = _conversion_method_template(device=torch.device(\"cpu\"))\n"
     ]
    }
   ],
   "source": [
    "import torch"
   ]
  },
  {
   "cell_type": "code",
   "execution_count": 72,
   "metadata": {},
   "outputs": [
    {
     "name": "stdout",
     "output_type": "stream",
     "text": [
      "tensor([[3, 3, 3, 0],\n",
      "        [3, 4, 3, 0],\n",
      "        [2, 1, 1, 0],\n",
      "        [1, 3, 1, 0],\n",
      "        [4, 2, 4, 0],\n",
      "        [1, 4, 1, 0],\n",
      "        [1, 2, 4, 0],\n",
      "        [1, 2, 3, 0],\n",
      "        [1, 4, 1, 0],\n",
      "        [1, 3, 2, 0]])\n",
      "tensor([[1, 3, 3, 3, 0],\n",
      "        [1, 3, 4, 3, 0],\n",
      "        [1, 2, 1, 1, 0],\n",
      "        [1, 1, 3, 1, 0],\n",
      "        [1, 4, 2, 4, 0],\n",
      "        [1, 1, 4, 1, 0],\n",
      "        [1, 1, 2, 4, 0],\n",
      "        [1, 1, 2, 3, 0],\n",
      "        [1, 1, 4, 1, 0],\n",
      "        [1, 1, 3, 2, 0]])\n",
      "tensor([1, 3, 3, 1, 3, 4, 1, 2, 1, 1, 1, 3, 1, 4, 2, 1, 1, 4, 1, 1, 2, 1, 1, 2,\n",
      "        1, 1, 4, 1, 1, 3])\n"
     ]
    }
   ],
   "source": [
    "x = torch.cat([torch.randint(1, 5, size=(10, 3)), torch.zeros(10, 1).long()], dim=1)\n",
    "print(x)\n",
    "pad_mask = x.eq(0)\n",
    "\n",
    "x = torch.cat([torch.full(size=(10, 1), fill_value=1, device=x.device), x], dim=1)\n",
    "print(x)\n",
    "x = x[:, :-1]\n",
    "print(x[~pad_mask])\n"
   ]
  },
  {
   "cell_type": "code",
   "execution_count": 42,
   "metadata": {},
   "outputs": [
    {
     "data": {
      "text/plain": [
       "torch.return_types.sort(\n",
       "values=tensor([[4, 3, 2],\n",
       "        [4, 3, 1],\n",
       "        [2, 1, 0],\n",
       "        [4, 1, 0],\n",
       "        [4, 2, 0],\n",
       "        [3, 0, 0],\n",
       "        [4, 3, 1],\n",
       "        [2, 2, 1],\n",
       "        [4, 2, 2],\n",
       "        [2, 2, 0]]),\n",
       "indices=tensor([[0, 2, 1],\n",
       "        [2, 1, 0],\n",
       "        [1, 2, 0],\n",
       "        [2, 0, 1],\n",
       "        [0, 1, 2],\n",
       "        [0, 1, 2],\n",
       "        [2, 0, 1],\n",
       "        [0, 2, 1],\n",
       "        [1, 0, 2],\n",
       "        [1, 2, 0]]))"
      ]
     },
     "execution_count": 42,
     "metadata": {},
     "output_type": "execute_result"
    }
   ],
   "source": [
    "torch.sort(x, descending=True)"
   ]
  },
  {
   "cell_type": "code",
   "execution_count": 34,
   "metadata": {},
   "outputs": [
    {
     "data": {
      "text/plain": [
       "tensor([[2, 2, 2],\n",
       "        [2, 2, 2]])"
      ]
     },
     "execution_count": 34,
     "metadata": {},
     "output_type": "execute_result"
    }
   ],
   "source": [
    "torch.full((2, 3), 2)"
   ]
  },
  {
   "cell_type": "code",
   "execution_count": 25,
   "metadata": {},
   "outputs": [],
   "source": [
    "def generate_action_dict(actions: set):\n",
    "    \"\"\"\n",
    "    Args:\n",
    "        actions: set of action-ids (including special tokens e.g. [SOS], [PAD])\n",
    "    \"\"\"\n",
    "    actions = actions.copy()\n",
    "    action_dict = {}\n",
    "    \n",
    "    if '[PAD]' in actions:\n",
    "        action_dict[0] = '[PAD]'\n",
    "        actions.remove('[PAD]')\n",
    "    if '[SOS]' in actions:\n",
    "        action_dict[1] = '[SOS]'\n",
    "        actions.remove('[SOS]')\n",
    "\n",
    "    for idx, action_id in enumerate(actions):\n",
    "        action_dict[idx+2] = action_id\n",
    "\n",
    "    return action_dict"
   ]
  },
  {
   "cell_type": "code",
   "execution_count": 26,
   "metadata": {},
   "outputs": [],
   "source": [
    "action_dict = generate_action_dict(a)"
   ]
  },
  {
   "cell_type": "code",
   "execution_count": 29,
   "metadata": {},
   "outputs": [
    {
     "data": {
      "text/plain": [
       "{0: '[PAD]', 1: '[SOS]', 2: 'Logoff', 3: 'Logon'}"
      ]
     },
     "execution_count": 29,
     "metadata": {},
     "output_type": "execute_result"
    }
   ],
   "source": [
    "action_dict"
   ]
  },
  {
   "cell_type": "code",
   "execution_count": 22,
   "metadata": {},
   "outputs": [
    {
     "data": {
      "text/plain": [
       "{1, 2, 3, '[PAD]', '[SOS]'}"
      ]
     },
     "execution_count": 22,
     "metadata": {},
     "output_type": "execute_result"
    }
   ],
   "source": [
    "a"
   ]
  },
  {
   "cell_type": "code",
   "execution_count": 20,
   "metadata": {},
   "outputs": [],
   "source": [
    "b.remove(1)"
   ]
  },
  {
   "cell_type": "code",
   "execution_count": 21,
   "metadata": {},
   "outputs": [
    {
     "data": {
      "text/plain": [
       "{1, 2, 3, '[PAD]', '[SOS]'}"
      ]
     },
     "execution_count": 21,
     "metadata": {},
     "output_type": "execute_result"
    }
   ],
   "source": [
    "a"
   ]
  },
  {
   "cell_type": "code",
   "execution_count": 12,
   "metadata": {},
   "outputs": [
    {
     "data": {
      "text/plain": [
       "{2, 3, '[PAD]', '[SOS]'}"
      ]
     },
     "execution_count": 12,
     "metadata": {},
     "output_type": "execute_result"
    }
   ],
   "source": [
    "a"
   ]
  },
  {
   "cell_type": "code",
   "execution_count": 8,
   "metadata": {},
   "outputs": [],
   "source": [
    "a.discard(4)"
   ]
  },
  {
   "cell_type": "code",
   "execution_count": 165,
   "metadata": {},
   "outputs": [
    {
     "ename": "ImportError",
     "evalue": "attempted relative import with no known parent package",
     "output_type": "error",
     "traceback": [
      "\u001b[0;31m---------------------------------------------------------------------------\u001b[0m",
      "\u001b[0;31mImportError\u001b[0m                               Traceback (most recent call last)",
      "Cell \u001b[0;32mIn[165], line 1\u001b[0m\n\u001b[0;32m----> 1\u001b[0m \u001b[38;5;28;01mfrom\u001b[39;00m\u001b[38;5;250m \u001b[39m\u001b[38;5;21;01m.\u001b[39;00m\u001b[38;5;21;01mSeqGAN_Pytorch\u001b[39;00m\u001b[38;5;250m \u001b[39m\u001b[38;5;28;01mimport\u001b[39;00m model\n",
      "\u001b[0;31mImportError\u001b[0m: attempted relative import with no known parent package"
     ]
    }
   ],
   "source": [
    "from .SeqGAN_Pytorch import model"
   ]
  },
  {
   "cell_type": "code",
   "execution_count": 13,
   "metadata": {},
   "outputs": [],
   "source": [
    "import torch\n",
    "from torch import nn\n",
    "\n",
    "from torch.nn.utils.rnn import pack_padded_sequence, pad_packed_sequence"
   ]
  },
  {
   "cell_type": "code",
   "execution_count": 2,
   "metadata": {},
   "outputs": [],
   "source": [
    "a = torch.tensor([[1,2,3,0,0], [1,2,0,0,0],[1,2,3,4,5]])"
   ]
  },
  {
   "cell_type": "code",
   "execution_count": 28,
   "metadata": {},
   "outputs": [],
   "source": [
    "embedding = nn.Embedding(num_embeddings=6, embedding_dim=3, padding_idx=0)\n",
    "embedded = embedding(a)\n",
    "lengths = a.ne(0).sum(axis=1).cpu()\n",
    "packed_embedded = pack_padded_sequence(embedded, lengths=lengths, batch_first=True, enforce_sorted=False)"
   ]
  },
  {
   "cell_type": "code",
   "execution_count": 49,
   "metadata": {},
   "outputs": [],
   "source": [
    "lstm = nn.LSTM(input_size=3, hidden_size=4, batch_first=True)\n",
    "packed_output, _ = lstm(packed_embedded)"
   ]
  },
  {
   "cell_type": "code",
   "execution_count": 50,
   "metadata": {},
   "outputs": [],
   "source": [
    "output, _ = pad_packed_sequence(packed_output, batch_first=True)"
   ]
  },
  {
   "cell_type": "code",
   "execution_count": 56,
   "metadata": {},
   "outputs": [],
   "source": [
    "pad_mask = a.eq(0)"
   ]
  },
  {
   "cell_type": "code",
   "execution_count": 52,
   "metadata": {},
   "outputs": [
    {
     "data": {
      "text/plain": [
       "tensor([[[0.0492, 0.1254, 0.2025, 0.0362],\n",
       "         [0.0906, 0.1724, 0.3160, 0.0057],\n",
       "         [0.2148, 0.1673, 0.4380, 0.0471],\n",
       "         [0.0000, 0.0000, 0.0000, 0.0000],\n",
       "         [0.0000, 0.0000, 0.0000, 0.0000]],\n",
       "\n",
       "        [[0.0492, 0.1254, 0.2025, 0.0362],\n",
       "         [0.0906, 0.1724, 0.3160, 0.0057],\n",
       "         [0.0000, 0.0000, 0.0000, 0.0000],\n",
       "         [0.0000, 0.0000, 0.0000, 0.0000],\n",
       "         [0.0000, 0.0000, 0.0000, 0.0000]],\n",
       "\n",
       "        [[0.0492, 0.1254, 0.2025, 0.0362],\n",
       "         [0.0906, 0.1724, 0.3160, 0.0057],\n",
       "         [0.2148, 0.1673, 0.4380, 0.0471],\n",
       "         [0.2691, 0.1404, 0.3402, 0.1812],\n",
       "         [0.3480, 0.0616, 0.1591, 0.2358]]], grad_fn=<IndexSelectBackward0>)"
      ]
     },
     "execution_count": 52,
     "metadata": {},
     "output_type": "execute_result"
    }
   ],
   "source": [
    "output"
   ]
  },
  {
   "cell_type": "code",
   "execution_count": 58,
   "metadata": {},
   "outputs": [],
   "source": [
    "linear = nn.Linear(4, 5)"
   ]
  },
  {
   "cell_type": "code",
   "execution_count": 60,
   "metadata": {},
   "outputs": [
    {
     "data": {
      "text/plain": [
       "tensor([[[ 0.2169, -0.2792,  0.1324,  0.1725, -0.3363],\n",
       "         [ 0.2146, -0.2847,  0.0831,  0.1790, -0.3274],\n",
       "         [ 0.1729, -0.2822,  0.0625,  0.1681, -0.3329],\n",
       "         [ 0.2081, -0.3069,  0.1994,  0.1640, -0.3619],\n",
       "         [ 0.2081, -0.3069,  0.1994,  0.1640, -0.3619]],\n",
       "\n",
       "        [[ 0.2169, -0.2792,  0.1324,  0.1725, -0.3363],\n",
       "         [ 0.2146, -0.2847,  0.0831,  0.1790, -0.3274],\n",
       "         [ 0.2081, -0.3069,  0.1994,  0.1640, -0.3619],\n",
       "         [ 0.2081, -0.3069,  0.1994,  0.1640, -0.3619],\n",
       "         [ 0.2081, -0.3069,  0.1994,  0.1640, -0.3619]],\n",
       "\n",
       "        [[ 0.2169, -0.2792,  0.1324,  0.1725, -0.3363],\n",
       "         [ 0.2146, -0.2847,  0.0831,  0.1790, -0.3274],\n",
       "         [ 0.1729, -0.2822,  0.0625,  0.1681, -0.3329],\n",
       "         [ 0.1447, -0.2657,  0.1248,  0.1566, -0.3573],\n",
       "         [ 0.1008, -0.2979,  0.1863,  0.1518, -0.4057]]],\n",
       "       grad_fn=<ViewBackward0>)"
      ]
     },
     "execution_count": 60,
     "metadata": {},
     "output_type": "execute_result"
    }
   ],
   "source": [
    "linear(output)"
   ]
  },
  {
   "cell_type": "code",
   "execution_count": 70,
   "metadata": {},
   "outputs": [
    {
     "name": "stderr",
     "output_type": "stream",
     "text": [
      "/home/yuntae_kang/.pyenv/versions/3.12.5/envs/imb_data/lib/python3.12/site-packages/torch/nn/modules/module.py:1739: UserWarning: Implicit dimension choice for log_softmax has been deprecated. Change the call to include dim=X as an argument.\n",
      "  return self._call_impl(*args, **kwargs)\n"
     ]
    },
    {
     "data": {
      "text/plain": [
       "tensor([[-1.4011, -1.8972, -1.4855, -1.4455, -1.9543],\n",
       "        [-1.3939, -1.8932, -1.5253, -1.4295, -1.9358],\n",
       "        [-1.4178, -1.8729, -1.5282, -1.4226, -1.9236],\n",
       "        [-1.4011, -1.8972, -1.4855, -1.4455, -1.9543],\n",
       "        [-1.3939, -1.8932, -1.5253, -1.4295, -1.9358],\n",
       "        [-1.4011, -1.8972, -1.4855, -1.4455, -1.9543],\n",
       "        [-1.3939, -1.8932, -1.5253, -1.4295, -1.9358],\n",
       "        [-1.4178, -1.8729, -1.5282, -1.4226, -1.9236],\n",
       "        [-1.4495, -1.8599, -1.4694, -1.4376, -1.9515],\n",
       "        [-1.4851, -1.8838, -1.3996, -1.4341, -1.9916]],\n",
       "       grad_fn=<LogSoftmaxBackward0>)"
      ]
     },
     "execution_count": 70,
     "metadata": {},
     "output_type": "execute_result"
    }
   ],
   "source": [
    "nn.LogSoftmax()(linear(output[~pad_mask]))"
   ]
  },
  {
   "cell_type": "code",
   "execution_count": 114,
   "metadata": {},
   "outputs": [],
   "source": [
    "output = nn.functional.log_softmax(linear(output[~pad_mask]), dim=-1)"
   ]
  },
  {
   "cell_type": "code",
   "execution_count": 129,
   "metadata": {},
   "outputs": [
    {
     "data": {
      "text/plain": [
       "tensor([[-1.4144, -1.9246, -1.4312, -1.4520, -1.9817],\n",
       "        [-1.4154, -1.9225, -1.4356, -1.4473, -1.9824],\n",
       "        [-1.4165, -1.9175, -1.4442, -1.4410, -1.9816],\n",
       "        [-1.4144, -1.9246, -1.4312, -1.4520, -1.9817],\n",
       "        [-1.4154, -1.9225, -1.4356, -1.4473, -1.9824],\n",
       "        [-1.4144, -1.9246, -1.4312, -1.4520, -1.9817],\n",
       "        [-1.4154, -1.9225, -1.4356, -1.4473, -1.9824],\n",
       "        [-1.4165, -1.9175, -1.4442, -1.4410, -1.9816],\n",
       "        [-1.4158, -1.9159, -1.4443, -1.4435, -1.9800],\n",
       "        [-1.4165, -1.9159, -1.4405, -1.4451, -1.9829]],\n",
       "       grad_fn=<LogSoftmaxBackward0>)"
      ]
     },
     "execution_count": 129,
     "metadata": {},
     "output_type": "execute_result"
    }
   ],
   "source": [
    "output"
   ]
  },
  {
   "cell_type": "code",
   "execution_count": 164,
   "metadata": {},
   "outputs": [
    {
     "data": {
      "text/plain": [
       "tensor([[3],\n",
       "        [2],\n",
       "        [0],\n",
       "        [1],\n",
       "        [0],\n",
       "        [1],\n",
       "        [3],\n",
       "        [1],\n",
       "        [3],\n",
       "        [1]])"
      ]
     },
     "execution_count": 164,
     "metadata": {},
     "output_type": "execute_result"
    }
   ],
   "source": [
    "torch.exp(output).multinomial(1)"
   ]
  },
  {
   "cell_type": "code",
   "execution_count": 103,
   "metadata": {},
   "outputs": [
    {
     "data": {
      "text/plain": [
       "torch.Size([3])"
      ]
     },
     "execution_count": 103,
     "metadata": {},
     "output_type": "execute_result"
    }
   ],
   "source": [
    "a[:, 0].shape"
   ]
  },
  {
   "cell_type": "code",
   "execution_count": 113,
   "metadata": {},
   "outputs": [
    {
     "data": {
      "text/plain": [
       "tensor([[1, 2],\n",
       "        [1, 2],\n",
       "        [1, 2]])"
      ]
     },
     "execution_count": 113,
     "metadata": {},
     "output_type": "execute_result"
    }
   ],
   "source": [
    "a[:, [0, 1]]"
   ]
  },
  {
   "cell_type": "code",
   "execution_count": 105,
   "metadata": {},
   "outputs": [
    {
     "data": {
      "text/plain": [
       "torch.Size([3, 1])"
      ]
     },
     "execution_count": 105,
     "metadata": {},
     "output_type": "execute_result"
    }
   ],
   "source": [
    "a.chunk(a.size(1), dim=-1)[0].shape"
   ]
  },
  {
   "cell_type": "code",
   "execution_count": 71,
   "metadata": {},
   "outputs": [
    {
     "data": {
      "text/plain": [
       "device(type='cpu')"
      ]
     },
     "execution_count": 71,
     "metadata": {},
     "output_type": "execute_result"
    }
   ],
   "source": [
    "a.device"
   ]
  },
  {
   "cell_type": "code",
   "execution_count": 75,
   "metadata": {},
   "outputs": [],
   "source": [
    "param = next(linear.parameters())"
   ]
  },
  {
   "cell_type": "code",
   "execution_count": 94,
   "metadata": {},
   "outputs": [
    {
     "data": {
      "text/plain": [
       "tensor([[-0.0194,  0.0170,  0.0212,  0.0014],\n",
       "        [ 0.0200,  0.0238,  0.0315,  0.0009],\n",
       "        [-0.0230,  0.0378, -0.0244, -0.0325],\n",
       "        [ 0.0396,  0.0358,  0.0336, -0.0331],\n",
       "        [-0.0322,  0.0056,  0.0405,  0.0256]])"
      ]
     },
     "execution_count": 94,
     "metadata": {},
     "output_type": "execute_result"
    }
   ],
   "source": [
    "param.data"
   ]
  },
  {
   "cell_type": "code",
   "execution_count": 93,
   "metadata": {},
   "outputs": [
    {
     "data": {
      "text/plain": [
       "tensor([[-0.0194,  0.0170,  0.0212,  0.0014],\n",
       "        [ 0.0200,  0.0238,  0.0315,  0.0009],\n",
       "        [-0.0230,  0.0378, -0.0244, -0.0325],\n",
       "        [ 0.0396,  0.0358,  0.0336, -0.0331],\n",
       "        [-0.0322,  0.0056,  0.0405,  0.0256]])"
      ]
     },
     "execution_count": 93,
     "metadata": {},
     "output_type": "execute_result"
    }
   ],
   "source": [
    "param.data.uniform_(-0.05, 0.05)"
   ]
  }
 ],
 "metadata": {
  "kernelspec": {
   "display_name": "imb_data",
   "language": "python",
   "name": "python3"
  },
  "language_info": {
   "codemirror_mode": {
    "name": "ipython",
    "version": 3
   },
   "file_extension": ".py",
   "mimetype": "text/x-python",
   "name": "python",
   "nbconvert_exporter": "python",
   "pygments_lexer": "ipython3",
   "version": "3.12.5"
  }
 },
 "nbformat": 4,
 "nbformat_minor": 2
}
